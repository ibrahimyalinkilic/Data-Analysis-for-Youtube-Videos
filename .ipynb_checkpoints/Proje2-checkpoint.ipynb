{
 "cells": [
  {
   "cell_type": "code",
   "execution_count": 41,
   "metadata": {},
   "outputs": [],
   "source": [
    "import pandas as pd\n",
    "import numpy as np\n",
    "import matplotlib.pyplot as plt\n",
    "from matplotlib import cm\n",
    "import seaborn as sns\n",
    "from sklearn.model_selection import train_test_split\n",
    "from sklearn.cluster import KMeans\n",
    "from sklearn.linear_model import LinearRegression\n",
    "from sklearn.metrics import mean_squared_error\n",
    "from sklearn.metrics import r2_score\n",
    "from scipy.optimize import curve_fit\n",
    "import matplotlib.pyplot as plt\n",
    "import matplotlib.colors as colors\n",
    "%matplotlib inline"
   ]
  },
  {
   "cell_type": "code",
   "execution_count": 81,
   "metadata": {},
   "outputs": [],
   "source": [
    "df = pd.read_csv('input/USvideos.csv')"
   ]
  },
  {
   "cell_type": "markdown",
   "metadata": {},
   "source": [
    "### Veriseti"
   ]
  },
  {
   "cell_type": "code",
   "execution_count": 82,
   "metadata": {},
   "outputs": [
    {
     "data": {
      "text/html": [
       "<div>\n",
       "<style scoped>\n",
       "    .dataframe tbody tr th:only-of-type {\n",
       "        vertical-align: middle;\n",
       "    }\n",
       "\n",
       "    .dataframe tbody tr th {\n",
       "        vertical-align: top;\n",
       "    }\n",
       "\n",
       "    .dataframe thead th {\n",
       "        text-align: right;\n",
       "    }\n",
       "</style>\n",
       "<table border=\"1\" class=\"dataframe\">\n",
       "  <thead>\n",
       "    <tr style=\"text-align: right;\">\n",
       "      <th></th>\n",
       "      <th>video_id</th>\n",
       "      <th>trending_date</th>\n",
       "      <th>title</th>\n",
       "      <th>channel_title</th>\n",
       "      <th>category_id</th>\n",
       "      <th>publish_time</th>\n",
       "      <th>tags</th>\n",
       "      <th>views</th>\n",
       "      <th>likes</th>\n",
       "      <th>dislikes</th>\n",
       "      <th>comment_count</th>\n",
       "      <th>thumbnail_link</th>\n",
       "      <th>comments_disabled</th>\n",
       "      <th>ratings_disabled</th>\n",
       "      <th>video_error_or_removed</th>\n",
       "      <th>description</th>\n",
       "    </tr>\n",
       "  </thead>\n",
       "  <tbody>\n",
       "    <tr>\n",
       "      <td>0</td>\n",
       "      <td>2kyS6SvSYSE</td>\n",
       "      <td>17.14.11</td>\n",
       "      <td>WE WANT TO TALK ABOUT OUR MARRIAGE</td>\n",
       "      <td>CaseyNeistat</td>\n",
       "      <td>22</td>\n",
       "      <td>2017-11-13T17:13:01.000Z</td>\n",
       "      <td>SHANtell martin</td>\n",
       "      <td>748374</td>\n",
       "      <td>57527</td>\n",
       "      <td>2966</td>\n",
       "      <td>15954</td>\n",
       "      <td>https://i.ytimg.com/vi/2kyS6SvSYSE/default.jpg</td>\n",
       "      <td>False</td>\n",
       "      <td>False</td>\n",
       "      <td>False</td>\n",
       "      <td>SHANTELL'S CHANNEL - https://www.youtube.com/s...</td>\n",
       "    </tr>\n",
       "    <tr>\n",
       "      <td>1</td>\n",
       "      <td>1ZAPwfrtAFY</td>\n",
       "      <td>17.14.11</td>\n",
       "      <td>The Trump Presidency: Last Week Tonight with J...</td>\n",
       "      <td>LastWeekTonight</td>\n",
       "      <td>24</td>\n",
       "      <td>2017-11-13T07:30:00.000Z</td>\n",
       "      <td>last week tonight trump presidency|\"last week ...</td>\n",
       "      <td>2418783</td>\n",
       "      <td>97185</td>\n",
       "      <td>6146</td>\n",
       "      <td>12703</td>\n",
       "      <td>https://i.ytimg.com/vi/1ZAPwfrtAFY/default.jpg</td>\n",
       "      <td>False</td>\n",
       "      <td>False</td>\n",
       "      <td>False</td>\n",
       "      <td>One year after the presidential election, John...</td>\n",
       "    </tr>\n",
       "    <tr>\n",
       "      <td>2</td>\n",
       "      <td>5qpjK5DgCt4</td>\n",
       "      <td>17.14.11</td>\n",
       "      <td>Racist Superman | Rudy Mancuso, King Bach &amp; Le...</td>\n",
       "      <td>Rudy Mancuso</td>\n",
       "      <td>23</td>\n",
       "      <td>2017-11-12T19:05:24.000Z</td>\n",
       "      <td>racist superman|\"rudy\"|\"mancuso\"|\"king\"|\"bach\"...</td>\n",
       "      <td>3191434</td>\n",
       "      <td>146033</td>\n",
       "      <td>5339</td>\n",
       "      <td>8181</td>\n",
       "      <td>https://i.ytimg.com/vi/5qpjK5DgCt4/default.jpg</td>\n",
       "      <td>False</td>\n",
       "      <td>False</td>\n",
       "      <td>False</td>\n",
       "      <td>WATCH MY PREVIOUS VIDEO ▶ \\n\\nSUBSCRIBE ► http...</td>\n",
       "    </tr>\n",
       "    <tr>\n",
       "      <td>3</td>\n",
       "      <td>puqaWrEC7tY</td>\n",
       "      <td>17.14.11</td>\n",
       "      <td>Nickelback Lyrics: Real or Fake?</td>\n",
       "      <td>Good Mythical Morning</td>\n",
       "      <td>24</td>\n",
       "      <td>2017-11-13T11:00:04.000Z</td>\n",
       "      <td>rhett and link|\"gmm\"|\"good mythical morning\"|\"...</td>\n",
       "      <td>343168</td>\n",
       "      <td>10172</td>\n",
       "      <td>666</td>\n",
       "      <td>2146</td>\n",
       "      <td>https://i.ytimg.com/vi/puqaWrEC7tY/default.jpg</td>\n",
       "      <td>False</td>\n",
       "      <td>False</td>\n",
       "      <td>False</td>\n",
       "      <td>Today we find out if Link is a Nickelback amat...</td>\n",
       "    </tr>\n",
       "    <tr>\n",
       "      <td>4</td>\n",
       "      <td>d380meD0W0M</td>\n",
       "      <td>17.14.11</td>\n",
       "      <td>I Dare You: GOING BALD!?</td>\n",
       "      <td>nigahiga</td>\n",
       "      <td>24</td>\n",
       "      <td>2017-11-12T18:01:41.000Z</td>\n",
       "      <td>ryan|\"higa\"|\"higatv\"|\"nigahiga\"|\"i dare you\"|\"...</td>\n",
       "      <td>2095731</td>\n",
       "      <td>132235</td>\n",
       "      <td>1989</td>\n",
       "      <td>17518</td>\n",
       "      <td>https://i.ytimg.com/vi/d380meD0W0M/default.jpg</td>\n",
       "      <td>False</td>\n",
       "      <td>False</td>\n",
       "      <td>False</td>\n",
       "      <td>I know it's been a while since we did this sho...</td>\n",
       "    </tr>\n",
       "    <tr>\n",
       "      <td>...</td>\n",
       "      <td>...</td>\n",
       "      <td>...</td>\n",
       "      <td>...</td>\n",
       "      <td>...</td>\n",
       "      <td>...</td>\n",
       "      <td>...</td>\n",
       "      <td>...</td>\n",
       "      <td>...</td>\n",
       "      <td>...</td>\n",
       "      <td>...</td>\n",
       "      <td>...</td>\n",
       "      <td>...</td>\n",
       "      <td>...</td>\n",
       "      <td>...</td>\n",
       "      <td>...</td>\n",
       "      <td>...</td>\n",
       "    </tr>\n",
       "    <tr>\n",
       "      <td>23357</td>\n",
       "      <td>pH7VfJDq7f4</td>\n",
       "      <td>18.12.03</td>\n",
       "      <td>Why Bridges Move...</td>\n",
       "      <td>Practical Engineering</td>\n",
       "      <td>27</td>\n",
       "      <td>2018-02-27T12:00:08.000Z</td>\n",
       "      <td>thermal expansion|\"expansion joint\"|\"thermal m...</td>\n",
       "      <td>456470</td>\n",
       "      <td>14826</td>\n",
       "      <td>279</td>\n",
       "      <td>820</td>\n",
       "      <td>https://i.ytimg.com/vi/pH7VfJDq7f4/default.jpg</td>\n",
       "      <td>False</td>\n",
       "      <td>False</td>\n",
       "      <td>False</td>\n",
       "      <td>...and other musings on thermal movement of la...</td>\n",
       "    </tr>\n",
       "    <tr>\n",
       "      <td>23358</td>\n",
       "      <td>hV-yHbbrKRA</td>\n",
       "      <td>18.12.03</td>\n",
       "      <td>Macaroni - A Recipe From 1784</td>\n",
       "      <td>Townsends</td>\n",
       "      <td>27</td>\n",
       "      <td>2018-02-26T21:23:39.000Z</td>\n",
       "      <td>townsends|\"jas townsend and son\"|\"reenacting\"|...</td>\n",
       "      <td>519220</td>\n",
       "      <td>13600</td>\n",
       "      <td>329</td>\n",
       "      <td>1350</td>\n",
       "      <td>https://i.ytimg.com/vi/hV-yHbbrKRA/default.jpg</td>\n",
       "      <td>False</td>\n",
       "      <td>False</td>\n",
       "      <td>False</td>\n",
       "      <td>Visit Our Website! ▶ http://www.townsends.us/ ...</td>\n",
       "    </tr>\n",
       "    <tr>\n",
       "      <td>23359</td>\n",
       "      <td>CwKp6Xhy3_4</td>\n",
       "      <td>18.12.03</td>\n",
       "      <td>Chris Young - Hangin' On</td>\n",
       "      <td>ChrisYoungVEVO</td>\n",
       "      <td>10</td>\n",
       "      <td>2018-02-26T08:00:02.000Z</td>\n",
       "      <td>Losing sleep video|\"losing sleep album\"|\"think...</td>\n",
       "      <td>1117570</td>\n",
       "      <td>7504</td>\n",
       "      <td>584</td>\n",
       "      <td>324</td>\n",
       "      <td>https://i.ytimg.com/vi/CwKp6Xhy3_4/default.jpg</td>\n",
       "      <td>False</td>\n",
       "      <td>False</td>\n",
       "      <td>False</td>\n",
       "      <td>Chris Young's Hangin' On from his #1 album Los...</td>\n",
       "    </tr>\n",
       "    <tr>\n",
       "      <td>23360</td>\n",
       "      <td>vQiiNGllGQo</td>\n",
       "      <td>18.12.03</td>\n",
       "      <td>Elderly man making sure his dog won't get wet</td>\n",
       "      <td>Rock me, Joey Santiago.</td>\n",
       "      <td>15</td>\n",
       "      <td>2018-02-26T11:09:32.000Z</td>\n",
       "      <td>dog|\"cute\"|\"adorable\"|\"doggo\"|\"doge\"|\"old\"|\"ma...</td>\n",
       "      <td>713574</td>\n",
       "      <td>12448</td>\n",
       "      <td>146</td>\n",
       "      <td>1474</td>\n",
       "      <td>https://i.ytimg.com/vi/vQiiNGllGQo/default.jpg</td>\n",
       "      <td>False</td>\n",
       "      <td>False</td>\n",
       "      <td>False</td>\n",
       "      <td>very wholesome stuff.\\n\\nThis video was taken ...</td>\n",
       "    </tr>\n",
       "    <tr>\n",
       "      <td>23361</td>\n",
       "      <td>2afSbqlp5HU</td>\n",
       "      <td>18.12.03</td>\n",
       "      <td>How to speak like Black Panther - BBC News</td>\n",
       "      <td>BBC News</td>\n",
       "      <td>1</td>\n",
       "      <td>2018-02-27T12:26:49.000Z</td>\n",
       "      <td>bbc|\"bbc news\"|\"news\"|\"black panther\"|\"black p...</td>\n",
       "      <td>422979</td>\n",
       "      <td>7408</td>\n",
       "      <td>1344</td>\n",
       "      <td>1548</td>\n",
       "      <td>https://i.ytimg.com/vi/2afSbqlp5HU/default.jpg</td>\n",
       "      <td>False</td>\n",
       "      <td>False</td>\n",
       "      <td>False</td>\n",
       "      <td>The new marvel film Black Panther is set in th...</td>\n",
       "    </tr>\n",
       "  </tbody>\n",
       "</table>\n",
       "<p>23362 rows × 16 columns</p>\n",
       "</div>"
      ],
      "text/plain": [
       "          video_id trending_date  \\\n",
       "0      2kyS6SvSYSE      17.14.11   \n",
       "1      1ZAPwfrtAFY      17.14.11   \n",
       "2      5qpjK5DgCt4      17.14.11   \n",
       "3      puqaWrEC7tY      17.14.11   \n",
       "4      d380meD0W0M      17.14.11   \n",
       "...            ...           ...   \n",
       "23357  pH7VfJDq7f4      18.12.03   \n",
       "23358  hV-yHbbrKRA      18.12.03   \n",
       "23359  CwKp6Xhy3_4      18.12.03   \n",
       "23360  vQiiNGllGQo      18.12.03   \n",
       "23361  2afSbqlp5HU      18.12.03   \n",
       "\n",
       "                                                   title  \\\n",
       "0                     WE WANT TO TALK ABOUT OUR MARRIAGE   \n",
       "1      The Trump Presidency: Last Week Tonight with J...   \n",
       "2      Racist Superman | Rudy Mancuso, King Bach & Le...   \n",
       "3                       Nickelback Lyrics: Real or Fake?   \n",
       "4                               I Dare You: GOING BALD!?   \n",
       "...                                                  ...   \n",
       "23357                                Why Bridges Move...   \n",
       "23358                      Macaroni - A Recipe From 1784   \n",
       "23359                           Chris Young - Hangin' On   \n",
       "23360      Elderly man making sure his dog won't get wet   \n",
       "23361         How to speak like Black Panther - BBC News   \n",
       "\n",
       "                 channel_title  category_id              publish_time  \\\n",
       "0                 CaseyNeistat           22  2017-11-13T17:13:01.000Z   \n",
       "1              LastWeekTonight           24  2017-11-13T07:30:00.000Z   \n",
       "2                 Rudy Mancuso           23  2017-11-12T19:05:24.000Z   \n",
       "3        Good Mythical Morning           24  2017-11-13T11:00:04.000Z   \n",
       "4                     nigahiga           24  2017-11-12T18:01:41.000Z   \n",
       "...                        ...          ...                       ...   \n",
       "23357    Practical Engineering           27  2018-02-27T12:00:08.000Z   \n",
       "23358                Townsends           27  2018-02-26T21:23:39.000Z   \n",
       "23359           ChrisYoungVEVO           10  2018-02-26T08:00:02.000Z   \n",
       "23360  Rock me, Joey Santiago.           15  2018-02-26T11:09:32.000Z   \n",
       "23361                 BBC News            1  2018-02-27T12:26:49.000Z   \n",
       "\n",
       "                                                    tags    views   likes  \\\n",
       "0                                        SHANtell martin   748374   57527   \n",
       "1      last week tonight trump presidency|\"last week ...  2418783   97185   \n",
       "2      racist superman|\"rudy\"|\"mancuso\"|\"king\"|\"bach\"...  3191434  146033   \n",
       "3      rhett and link|\"gmm\"|\"good mythical morning\"|\"...   343168   10172   \n",
       "4      ryan|\"higa\"|\"higatv\"|\"nigahiga\"|\"i dare you\"|\"...  2095731  132235   \n",
       "...                                                  ...      ...     ...   \n",
       "23357  thermal expansion|\"expansion joint\"|\"thermal m...   456470   14826   \n",
       "23358  townsends|\"jas townsend and son\"|\"reenacting\"|...   519220   13600   \n",
       "23359  Losing sleep video|\"losing sleep album\"|\"think...  1117570    7504   \n",
       "23360  dog|\"cute\"|\"adorable\"|\"doggo\"|\"doge\"|\"old\"|\"ma...   713574   12448   \n",
       "23361  bbc|\"bbc news\"|\"news\"|\"black panther\"|\"black p...   422979    7408   \n",
       "\n",
       "       dislikes  comment_count  \\\n",
       "0          2966          15954   \n",
       "1          6146          12703   \n",
       "2          5339           8181   \n",
       "3           666           2146   \n",
       "4          1989          17518   \n",
       "...         ...            ...   \n",
       "23357       279            820   \n",
       "23358       329           1350   \n",
       "23359       584            324   \n",
       "23360       146           1474   \n",
       "23361      1344           1548   \n",
       "\n",
       "                                       thumbnail_link  comments_disabled  \\\n",
       "0      https://i.ytimg.com/vi/2kyS6SvSYSE/default.jpg              False   \n",
       "1      https://i.ytimg.com/vi/1ZAPwfrtAFY/default.jpg              False   \n",
       "2      https://i.ytimg.com/vi/5qpjK5DgCt4/default.jpg              False   \n",
       "3      https://i.ytimg.com/vi/puqaWrEC7tY/default.jpg              False   \n",
       "4      https://i.ytimg.com/vi/d380meD0W0M/default.jpg              False   \n",
       "...                                               ...                ...   \n",
       "23357  https://i.ytimg.com/vi/pH7VfJDq7f4/default.jpg              False   \n",
       "23358  https://i.ytimg.com/vi/hV-yHbbrKRA/default.jpg              False   \n",
       "23359  https://i.ytimg.com/vi/CwKp6Xhy3_4/default.jpg              False   \n",
       "23360  https://i.ytimg.com/vi/vQiiNGllGQo/default.jpg              False   \n",
       "23361  https://i.ytimg.com/vi/2afSbqlp5HU/default.jpg              False   \n",
       "\n",
       "       ratings_disabled  video_error_or_removed  \\\n",
       "0                 False                   False   \n",
       "1                 False                   False   \n",
       "2                 False                   False   \n",
       "3                 False                   False   \n",
       "4                 False                   False   \n",
       "...                 ...                     ...   \n",
       "23357             False                   False   \n",
       "23358             False                   False   \n",
       "23359             False                   False   \n",
       "23360             False                   False   \n",
       "23361             False                   False   \n",
       "\n",
       "                                             description  \n",
       "0      SHANTELL'S CHANNEL - https://www.youtube.com/s...  \n",
       "1      One year after the presidential election, John...  \n",
       "2      WATCH MY PREVIOUS VIDEO ▶ \\n\\nSUBSCRIBE ► http...  \n",
       "3      Today we find out if Link is a Nickelback amat...  \n",
       "4      I know it's been a while since we did this sho...  \n",
       "...                                                  ...  \n",
       "23357  ...and other musings on thermal movement of la...  \n",
       "23358  Visit Our Website! ▶ http://www.townsends.us/ ...  \n",
       "23359  Chris Young's Hangin' On from his #1 album Los...  \n",
       "23360  very wholesome stuff.\\n\\nThis video was taken ...  \n",
       "23361  The new marvel film Black Panther is set in th...  \n",
       "\n",
       "[23362 rows x 16 columns]"
      ]
     },
     "execution_count": 82,
     "metadata": {},
     "output_type": "execute_result"
    }
   ],
   "source": [
    "df"
   ]
  },
  {
   "cell_type": "markdown",
   "metadata": {},
   "source": [
    "### Kategorilerdeki video sayıları"
   ]
  },
  {
   "cell_type": "code",
   "execution_count": 83,
   "metadata": {},
   "outputs": [
    {
     "data": {
      "text/plain": [
       "24    5379\n",
       "10    3366\n",
       "26    2241\n",
       "23    1978\n",
       "25    1907\n",
       "22    1886\n",
       "28    1477\n",
       "1     1324\n",
       "17    1238\n",
       "27    1002\n",
       "15     593\n",
       "2      340\n",
       "20     305\n",
       "19     262\n",
       "29      48\n",
       "43      16\n",
       "Name: category_id, dtype: int64"
      ]
     },
     "execution_count": 83,
     "metadata": {},
     "output_type": "execute_result"
    }
   ],
   "source": [
    "df[\"category_id\"].value_counts()"
   ]
  },
  {
   "cell_type": "markdown",
   "metadata": {},
   "source": [
    "### Kategorilere göre ortalama like,dislike, comment sayıları"
   ]
  },
  {
   "cell_type": "code",
   "execution_count": 84,
   "metadata": {},
   "outputs": [
    {
     "data": {
      "text/html": [
       "<div>\n",
       "<style scoped>\n",
       "    .dataframe tbody tr th:only-of-type {\n",
       "        vertical-align: middle;\n",
       "    }\n",
       "\n",
       "    .dataframe tbody tr th {\n",
       "        vertical-align: top;\n",
       "    }\n",
       "\n",
       "    .dataframe thead th {\n",
       "        text-align: right;\n",
       "    }\n",
       "</style>\n",
       "<table border=\"1\" class=\"dataframe\">\n",
       "  <thead>\n",
       "    <tr style=\"text-align: right;\">\n",
       "      <th></th>\n",
       "      <th>likes</th>\n",
       "      <th>dislikes</th>\n",
       "      <th>comment_count</th>\n",
       "    </tr>\n",
       "    <tr>\n",
       "      <th>category_id</th>\n",
       "      <th></th>\n",
       "      <th></th>\n",
       "      <th></th>\n",
       "    </tr>\n",
       "  </thead>\n",
       "  <tbody>\n",
       "    <tr>\n",
       "      <td>1</td>\n",
       "      <td>47593.034743</td>\n",
       "      <td>2027.794562</td>\n",
       "      <td>6003.651813</td>\n",
       "    </tr>\n",
       "    <tr>\n",
       "      <td>2</td>\n",
       "      <td>9989.032353</td>\n",
       "      <td>613.911765</td>\n",
       "      <td>1730.438235</td>\n",
       "    </tr>\n",
       "    <tr>\n",
       "      <td>10</td>\n",
       "      <td>120687.778075</td>\n",
       "      <td>4003.628045</td>\n",
       "      <td>10383.559418</td>\n",
       "    </tr>\n",
       "    <tr>\n",
       "      <td>15</td>\n",
       "      <td>16425.096121</td>\n",
       "      <td>389.399663</td>\n",
       "      <td>2474.376054</td>\n",
       "    </tr>\n",
       "    <tr>\n",
       "      <td>17</td>\n",
       "      <td>30259.176898</td>\n",
       "      <td>2066.235057</td>\n",
       "      <td>3256.199515</td>\n",
       "    </tr>\n",
       "    <tr>\n",
       "      <td>19</td>\n",
       "      <td>9193.538168</td>\n",
       "      <td>839.041985</td>\n",
       "      <td>1833.011450</td>\n",
       "    </tr>\n",
       "    <tr>\n",
       "      <td>20</td>\n",
       "      <td>36906.295082</td>\n",
       "      <td>2456.649180</td>\n",
       "      <td>7578.383607</td>\n",
       "    </tr>\n",
       "    <tr>\n",
       "      <td>22</td>\n",
       "      <td>36033.730117</td>\n",
       "      <td>1829.890244</td>\n",
       "      <td>4491.865854</td>\n",
       "    </tr>\n",
       "    <tr>\n",
       "      <td>23</td>\n",
       "      <td>55259.666330</td>\n",
       "      <td>1771.822548</td>\n",
       "      <td>5432.868554</td>\n",
       "    </tr>\n",
       "    <tr>\n",
       "      <td>24</td>\n",
       "      <td>38033.904071</td>\n",
       "      <td>5283.989217</td>\n",
       "      <td>7178.388176</td>\n",
       "    </tr>\n",
       "    <tr>\n",
       "      <td>25</td>\n",
       "      <td>4034.712638</td>\n",
       "      <td>1192.622968</td>\n",
       "      <td>1523.749869</td>\n",
       "    </tr>\n",
       "    <tr>\n",
       "      <td>26</td>\n",
       "      <td>26010.616689</td>\n",
       "      <td>894.296743</td>\n",
       "      <td>4992.165997</td>\n",
       "    </tr>\n",
       "    <tr>\n",
       "      <td>27</td>\n",
       "      <td>19307.393214</td>\n",
       "      <td>649.418164</td>\n",
       "      <td>2143.574850</td>\n",
       "    </tr>\n",
       "    <tr>\n",
       "      <td>28</td>\n",
       "      <td>25603.914692</td>\n",
       "      <td>1281.696005</td>\n",
       "      <td>3350.945159</td>\n",
       "    </tr>\n",
       "    <tr>\n",
       "      <td>29</td>\n",
       "      <td>306774.895833</td>\n",
       "      <td>68938.812500</td>\n",
       "      <td>100071.562500</td>\n",
       "    </tr>\n",
       "    <tr>\n",
       "      <td>43</td>\n",
       "      <td>3363.437500</td>\n",
       "      <td>184.875000</td>\n",
       "      <td>1340.375000</td>\n",
       "    </tr>\n",
       "  </tbody>\n",
       "</table>\n",
       "</div>"
      ],
      "text/plain": [
       "                     likes      dislikes  comment_count\n",
       "category_id                                            \n",
       "1             47593.034743   2027.794562    6003.651813\n",
       "2              9989.032353    613.911765    1730.438235\n",
       "10           120687.778075   4003.628045   10383.559418\n",
       "15            16425.096121    389.399663    2474.376054\n",
       "17            30259.176898   2066.235057    3256.199515\n",
       "19             9193.538168    839.041985    1833.011450\n",
       "20            36906.295082   2456.649180    7578.383607\n",
       "22            36033.730117   1829.890244    4491.865854\n",
       "23            55259.666330   1771.822548    5432.868554\n",
       "24            38033.904071   5283.989217    7178.388176\n",
       "25             4034.712638   1192.622968    1523.749869\n",
       "26            26010.616689    894.296743    4992.165997\n",
       "27            19307.393214    649.418164    2143.574850\n",
       "28            25603.914692   1281.696005    3350.945159\n",
       "29           306774.895833  68938.812500  100071.562500\n",
       "43             3363.437500    184.875000    1340.375000"
      ]
     },
     "execution_count": 84,
     "metadata": {},
     "output_type": "execute_result"
    }
   ],
   "source": [
    "df.groupby(\"category_id\").mean()[[\"likes\",\"dislikes\",\"comment_count\"]]"
   ]
  },
  {
   "cell_type": "markdown",
   "metadata": {},
   "source": [
    "### Kanal ismine göre ortalama like, dislike, comment sayıları"
   ]
  },
  {
   "cell_type": "code",
   "execution_count": 85,
   "metadata": {},
   "outputs": [
    {
     "data": {
      "text/html": [
       "<div>\n",
       "<style scoped>\n",
       "    .dataframe tbody tr th:only-of-type {\n",
       "        vertical-align: middle;\n",
       "    }\n",
       "\n",
       "    .dataframe tbody tr th {\n",
       "        vertical-align: top;\n",
       "    }\n",
       "\n",
       "    .dataframe thead th {\n",
       "        text-align: right;\n",
       "    }\n",
       "</style>\n",
       "<table border=\"1\" class=\"dataframe\">\n",
       "  <thead>\n",
       "    <tr style=\"text-align: right;\">\n",
       "      <th></th>\n",
       "      <th>likes</th>\n",
       "      <th>dislikes</th>\n",
       "      <th>comment_count</th>\n",
       "    </tr>\n",
       "    <tr>\n",
       "      <th>channel_title</th>\n",
       "      <th></th>\n",
       "      <th></th>\n",
       "      <th></th>\n",
       "    </tr>\n",
       "  </thead>\n",
       "  <tbody>\n",
       "    <tr>\n",
       "      <td>12 News</td>\n",
       "      <td>176.000000</td>\n",
       "      <td>45.000000</td>\n",
       "      <td>0.000000</td>\n",
       "    </tr>\n",
       "    <tr>\n",
       "      <td>1MILLION Dance Studio</td>\n",
       "      <td>31395.214286</td>\n",
       "      <td>301.571429</td>\n",
       "      <td>706.642857</td>\n",
       "    </tr>\n",
       "    <tr>\n",
       "      <td>1theK (원더케이)</td>\n",
       "      <td>192808.526316</td>\n",
       "      <td>3333.105263</td>\n",
       "      <td>13456.263158</td>\n",
       "    </tr>\n",
       "    <tr>\n",
       "      <td>20th Century Fox</td>\n",
       "      <td>100548.132353</td>\n",
       "      <td>2854.941176</td>\n",
       "      <td>6535.691176</td>\n",
       "    </tr>\n",
       "    <tr>\n",
       "      <td>2CELLOS</td>\n",
       "      <td>11450.000000</td>\n",
       "      <td>122.500000</td>\n",
       "      <td>458.500000</td>\n",
       "    </tr>\n",
       "    <tr>\n",
       "      <td>...</td>\n",
       "      <td>...</td>\n",
       "      <td>...</td>\n",
       "      <td>...</td>\n",
       "    </tr>\n",
       "    <tr>\n",
       "      <td>ТСН</td>\n",
       "      <td>1667.000000</td>\n",
       "      <td>418.000000</td>\n",
       "      <td>1082.000000</td>\n",
       "    </tr>\n",
       "    <tr>\n",
       "      <td>ワーナー ブラザース 公式チャンネル</td>\n",
       "      <td>25827.000000</td>\n",
       "      <td>1021.333333</td>\n",
       "      <td>3593.333333</td>\n",
       "    </tr>\n",
       "    <tr>\n",
       "      <td>圧倒的不審者の極み!</td>\n",
       "      <td>11565.375000</td>\n",
       "      <td>883.750000</td>\n",
       "      <td>4131.250000</td>\n",
       "    </tr>\n",
       "    <tr>\n",
       "      <td>郭韋辰</td>\n",
       "      <td>49.500000</td>\n",
       "      <td>1.000000</td>\n",
       "      <td>4.000000</td>\n",
       "    </tr>\n",
       "    <tr>\n",
       "      <td>영국남자 Korean Englishman</td>\n",
       "      <td>24525.666667</td>\n",
       "      <td>429.833333</td>\n",
       "      <td>2765.000000</td>\n",
       "    </tr>\n",
       "  </tbody>\n",
       "</table>\n",
       "<p>1946 rows × 3 columns</p>\n",
       "</div>"
      ],
      "text/plain": [
       "                                likes     dislikes  comment_count\n",
       "channel_title                                                    \n",
       "12 News                    176.000000    45.000000       0.000000\n",
       "1MILLION Dance Studio    31395.214286   301.571429     706.642857\n",
       "1theK (원더케이)            192808.526316  3333.105263   13456.263158\n",
       "20th Century Fox        100548.132353  2854.941176    6535.691176\n",
       "2CELLOS                  11450.000000   122.500000     458.500000\n",
       "...                               ...          ...            ...\n",
       "ТСН                       1667.000000   418.000000    1082.000000\n",
       "ワーナー ブラザース 公式チャンネル       25827.000000  1021.333333    3593.333333\n",
       "圧倒的不審者の極み!               11565.375000   883.750000    4131.250000\n",
       "郭韋辰                         49.500000     1.000000       4.000000\n",
       "영국남자 Korean Englishman   24525.666667   429.833333    2765.000000\n",
       "\n",
       "[1946 rows x 3 columns]"
      ]
     },
     "execution_count": 85,
     "metadata": {},
     "output_type": "execute_result"
    }
   ],
   "source": [
    "df.groupby(\"channel_title\").mean()[[\"likes\",\"dislikes\",\"comment_count\"]]"
   ]
  },
  {
   "cell_type": "markdown",
   "metadata": {},
   "source": [
    "### Kategorilere göre max izlenme sayıları"
   ]
  },
  {
   "cell_type": "code",
   "execution_count": 86,
   "metadata": {},
   "outputs": [
    {
     "data": {
      "text/html": [
       "<div>\n",
       "<style scoped>\n",
       "    .dataframe tbody tr th:only-of-type {\n",
       "        vertical-align: middle;\n",
       "    }\n",
       "\n",
       "    .dataframe tbody tr th {\n",
       "        vertical-align: top;\n",
       "    }\n",
       "\n",
       "    .dataframe thead th {\n",
       "        text-align: right;\n",
       "    }\n",
       "</style>\n",
       "<table border=\"1\" class=\"dataframe\">\n",
       "  <thead>\n",
       "    <tr style=\"text-align: right;\">\n",
       "      <th></th>\n",
       "      <th>views</th>\n",
       "    </tr>\n",
       "    <tr>\n",
       "      <th>category_id</th>\n",
       "      <th></th>\n",
       "    </tr>\n",
       "  </thead>\n",
       "  <tbody>\n",
       "    <tr>\n",
       "      <td>1</td>\n",
       "      <td>36152111</td>\n",
       "    </tr>\n",
       "    <tr>\n",
       "      <td>2</td>\n",
       "      <td>25244097</td>\n",
       "    </tr>\n",
       "    <tr>\n",
       "      <td>10</td>\n",
       "      <td>102012605</td>\n",
       "    </tr>\n",
       "    <tr>\n",
       "      <td>15</td>\n",
       "      <td>6187457</td>\n",
       "    </tr>\n",
       "    <tr>\n",
       "      <td>17</td>\n",
       "      <td>29090799</td>\n",
       "    </tr>\n",
       "    <tr>\n",
       "      <td>19</td>\n",
       "      <td>23932421</td>\n",
       "    </tr>\n",
       "    <tr>\n",
       "      <td>20</td>\n",
       "      <td>10256746</td>\n",
       "    </tr>\n",
       "    <tr>\n",
       "      <td>22</td>\n",
       "      <td>56111957</td>\n",
       "    </tr>\n",
       "    <tr>\n",
       "      <td>23</td>\n",
       "      <td>17758014</td>\n",
       "    </tr>\n",
       "    <tr>\n",
       "      <td>24</td>\n",
       "      <td>149376127</td>\n",
       "    </tr>\n",
       "    <tr>\n",
       "      <td>25</td>\n",
       "      <td>5755949</td>\n",
       "    </tr>\n",
       "    <tr>\n",
       "      <td>26</td>\n",
       "      <td>54155921</td>\n",
       "    </tr>\n",
       "    <tr>\n",
       "      <td>27</td>\n",
       "      <td>3675806</td>\n",
       "    </tr>\n",
       "    <tr>\n",
       "      <td>28</td>\n",
       "      <td>20658640</td>\n",
       "    </tr>\n",
       "    <tr>\n",
       "      <td>29</td>\n",
       "      <td>24286474</td>\n",
       "    </tr>\n",
       "    <tr>\n",
       "      <td>43</td>\n",
       "      <td>179723</td>\n",
       "    </tr>\n",
       "  </tbody>\n",
       "</table>\n",
       "</div>"
      ],
      "text/plain": [
       "                 views\n",
       "category_id           \n",
       "1             36152111\n",
       "2             25244097\n",
       "10           102012605\n",
       "15             6187457\n",
       "17            29090799\n",
       "19            23932421\n",
       "20            10256746\n",
       "22            56111957\n",
       "23            17758014\n",
       "24           149376127\n",
       "25             5755949\n",
       "26            54155921\n",
       "27             3675806\n",
       "28            20658640\n",
       "29            24286474\n",
       "43              179723"
      ]
     },
     "execution_count": 86,
     "metadata": {},
     "output_type": "execute_result"
    }
   ],
   "source": [
    "df.groupby(\"category_id\").max()[[\"views\"]]"
   ]
  },
  {
   "cell_type": "markdown",
   "metadata": {},
   "source": [
    "### En yüksek görüntülenmeyi alan videonun title bilgisi"
   ]
  },
  {
   "cell_type": "code",
   "execution_count": 87,
   "metadata": {},
   "outputs": [
    {
     "data": {
      "text/plain": [
       "'YouTube Rewind: The Shape of 2017 | #YouTubeRewind'"
      ]
     },
     "execution_count": 87,
     "metadata": {},
     "output_type": "execute_result"
    }
   ],
   "source": [
    "df[df[\"views\"].max() == df[\"views\"]][\"title\"].iloc[0]"
   ]
  },
  {
   "cell_type": "markdown",
   "metadata": {},
   "source": [
    "### Kategori ID'lerine göre video sayıları"
   ]
  },
  {
   "cell_type": "code",
   "execution_count": 49,
   "metadata": {},
   "outputs": [
    {
     "data": {
      "image/png": "[encoded data removed]",
      "text/plain": [
       "<Figure size 864x576 with 1 Axes>"
      ]
     },
     "metadata": {
      "needs_background": "light"
     },
     "output_type": "display_data"
    }
   ],
   "source": [
    "plt.figure(figsize=(12,8))\n",
    "sns.countplot(x=\"category_id\", data=df)\n",
    "plt.ylabel('Video Sayısı', fontsize=14)\n",
    "plt.xlabel('Kategori ID', fontsize=14)\n",
    "plt.xticks(rotation='vertical')\n",
    "plt.title(\"Youtube Videoları Kategorileri\", fontsize=15)\n",
    "plt.show()"
   ]
  },
  {
   "cell_type": "markdown",
   "metadata": {},
   "source": [
    "### Elbow method kullanılarak clustering yapılması"
   ]
  },
  {
   "cell_type": "code",
   "execution_count": 50,
   "metadata": {},
   "outputs": [],
   "source": [
    "cluster = df[['likes','dislikes', 'views', 'comment_count']]"
   ]
  },
  {
   "cell_type": "code",
   "execution_count": 51,
   "metadata": {},
   "outputs": [
    {
     "data": {
      "text/html": [
       "<div>\n",
       "<style scoped>\n",
       "    .dataframe tbody tr th:only-of-type {\n",
       "        vertical-align: middle;\n",
       "    }\n",
       "\n",
       "    .dataframe tbody tr th {\n",
       "        vertical-align: top;\n",
       "    }\n",
       "\n",
       "    .dataframe thead th {\n",
       "        text-align: right;\n",
       "    }\n",
       "</style>\n",
       "<table border=\"1\" class=\"dataframe\">\n",
       "  <thead>\n",
       "    <tr style=\"text-align: right;\">\n",
       "      <th></th>\n",
       "      <th>likes</th>\n",
       "      <th>dislikes</th>\n",
       "      <th>views</th>\n",
       "      <th>comment_count</th>\n",
       "    </tr>\n",
       "  </thead>\n",
       "  <tbody>\n",
       "    <tr>\n",
       "      <td>0</td>\n",
       "      <td>57527</td>\n",
       "      <td>2966</td>\n",
       "      <td>748374</td>\n",
       "      <td>15954</td>\n",
       "    </tr>\n",
       "    <tr>\n",
       "      <td>1</td>\n",
       "      <td>97185</td>\n",
       "      <td>6146</td>\n",
       "      <td>2418783</td>\n",
       "      <td>12703</td>\n",
       "    </tr>\n",
       "    <tr>\n",
       "      <td>2</td>\n",
       "      <td>146033</td>\n",
       "      <td>5339</td>\n",
       "      <td>3191434</td>\n",
       "      <td>8181</td>\n",
       "    </tr>\n",
       "    <tr>\n",
       "      <td>3</td>\n",
       "      <td>10172</td>\n",
       "      <td>666</td>\n",
       "      <td>343168</td>\n",
       "      <td>2146</td>\n",
       "    </tr>\n",
       "    <tr>\n",
       "      <td>4</td>\n",
       "      <td>132235</td>\n",
       "      <td>1989</td>\n",
       "      <td>2095731</td>\n",
       "      <td>17518</td>\n",
       "    </tr>\n",
       "    <tr>\n",
       "      <td>...</td>\n",
       "      <td>...</td>\n",
       "      <td>...</td>\n",
       "      <td>...</td>\n",
       "      <td>...</td>\n",
       "    </tr>\n",
       "    <tr>\n",
       "      <td>23357</td>\n",
       "      <td>14826</td>\n",
       "      <td>279</td>\n",
       "      <td>456470</td>\n",
       "      <td>820</td>\n",
       "    </tr>\n",
       "    <tr>\n",
       "      <td>23358</td>\n",
       "      <td>13600</td>\n",
       "      <td>329</td>\n",
       "      <td>519220</td>\n",
       "      <td>1350</td>\n",
       "    </tr>\n",
       "    <tr>\n",
       "      <td>23359</td>\n",
       "      <td>7504</td>\n",
       "      <td>584</td>\n",
       "      <td>1117570</td>\n",
       "      <td>324</td>\n",
       "    </tr>\n",
       "    <tr>\n",
       "      <td>23360</td>\n",
       "      <td>12448</td>\n",
       "      <td>146</td>\n",
       "      <td>713574</td>\n",
       "      <td>1474</td>\n",
       "    </tr>\n",
       "    <tr>\n",
       "      <td>23361</td>\n",
       "      <td>7408</td>\n",
       "      <td>1344</td>\n",
       "      <td>422979</td>\n",
       "      <td>1548</td>\n",
       "    </tr>\n",
       "  </tbody>\n",
       "</table>\n",
       "<p>23362 rows × 4 columns</p>\n",
       "</div>"
      ],
      "text/plain": [
       "        likes  dislikes    views  comment_count\n",
       "0       57527      2966   748374          15954\n",
       "1       97185      6146  2418783          12703\n",
       "2      146033      5339  3191434           8181\n",
       "3       10172       666   343168           2146\n",
       "4      132235      1989  2095731          17518\n",
       "...       ...       ...      ...            ...\n",
       "23357   14826       279   456470            820\n",
       "23358   13600       329   519220           1350\n",
       "23359    7504       584  1117570            324\n",
       "23360   12448       146   713574           1474\n",
       "23361    7408      1344   422979           1548\n",
       "\n",
       "[23362 rows x 4 columns]"
      ]
     },
     "execution_count": 51,
     "metadata": {},
     "output_type": "execute_result"
    }
   ],
   "source": [
    "cluster"
   ]
  },
  {
   "cell_type": "code",
   "execution_count": 52,
   "metadata": {},
   "outputs": [
    {
     "data": {
      "image/png": "[encoded data removed]",
      "text/plain": [
       "<Figure size 432x288 with 1 Axes>"
      ]
     },
     "metadata": {
      "needs_background": "light"
     },
     "output_type": "display_data"
    }
   ],
   "source": [
    "wcss = []\n",
    "for i in range(1,11):\n",
    "    kmeans = KMeans(n_clusters=i,init='k-means++',max_iter=300,n_init=10,random_state=0)\n",
    "    kmeans.fit(cluster)\n",
    "    wcss.append(kmeans.inertia_)\n",
    "plt.plot(range(1,11),wcss)\n",
    "plt.title('The Elbow Method')\n",
    "plt.xlabel('Number of clusters')\n",
    "plt.ylabel('WCSS')\n",
    "plt.show()"
   ]
  },
  {
   "cell_type": "markdown",
   "metadata": {},
   "source": [
    "### Veri setimizdeki 'comments_disabled', 'ratings_disabled', 'video_error_or_removed' sayıları"
   ]
  },
  {
   "cell_type": "code",
   "execution_count": 53,
   "metadata": {},
   "outputs": [
    {
     "name": "stdout",
     "output_type": "stream",
     "text": [
      "(23362, 16)\n",
      "True\n"
     ]
    }
   ],
   "source": [
    "print(df.shape)\n",
    "print(df.isnull().values.any())\n",
    "\n"
   ]
  },
  {
   "cell_type": "code",
   "execution_count": 54,
   "metadata": {},
   "outputs": [
    {
     "name": "stderr",
     "output_type": "stream",
     "text": [
      "C:\\ProgramData\\Anaconda3\\lib\\site-packages\\pandas\\core\\frame.py:4102: SettingWithCopyWarning: \n",
      "A value is trying to be set on a copy of a slice from a DataFrame\n",
      "\n",
      "See the caveats in the documentation: http://pandas.pydata.org/pandas-docs/stable/user_guide/indexing.html#returning-a-view-versus-a-copy\n",
      "  errors=errors,\n"
     ]
    }
   ],
   "source": [
    "youtube = df.dropna(how='any',axis=0)\n",
    "youtube.describe()\n",
    "youtube.drop(['video_id','thumbnail_link'],axis=1,inplace=True)"
   ]
  },
  {
   "cell_type": "code",
   "execution_count": 55,
   "metadata": {},
   "outputs": [
    {
     "name": "stdout",
     "output_type": "stream",
     "text": [
      "False    22544\n",
      "True       385\n",
      "Name: comments_disabled, dtype: int64\n"
     ]
    },
    {
     "data": {
      "image/png": "[encoded data removed]",
      "text/plain": [
       "<Figure size 504x504 with 1 Axes>"
      ]
     },
     "metadata": {
      "needs_background": "light"
     },
     "output_type": "display_data"
    },
    {
     "name": "stdout",
     "output_type": "stream",
     "text": [
      "False    22784\n",
      "True       145\n",
      "Name: ratings_disabled, dtype: int64\n"
     ]
    },
    {
     "data": {
      "image/png": "[encoded data removed]",
      "text/plain": [
       "<Figure size 504x504 with 1 Axes>"
      ]
     },
     "metadata": {
      "needs_background": "light"
     },
     "output_type": "display_data"
    },
    {
     "name": "stdout",
     "output_type": "stream",
     "text": [
      "False    22927\n",
      "True         2\n",
      "Name: video_error_or_removed, dtype: int64\n"
     ]
    },
    {
     "data": {
      "image/png": "[encoded data removed]",
      "text/plain": [
       "<Figure size 504x504 with 1 Axes>"
      ]
     },
     "metadata": {
      "needs_background": "light"
     },
     "output_type": "display_data"
    }
   ],
   "source": [
    "youtube.apply(lambda x: len(x.unique()))\n",
    "for x in (['comments_disabled','ratings_disabled','video_error_or_removed']):\n",
    "    count=youtube[x].value_counts()\n",
    "    print(count)\n",
    "    plt.figure(figsize=(7,7))\n",
    "    sns.barplot(count.index, count.values, alpha=0.8)\n",
    "    plt.title('{} vs No of video'.format(x))\n",
    "    plt.ylabel('No of video')\n",
    "    plt.xlabel('{}'.format(x))\n",
    "    plt.show()"
   ]
  },
  {
   "cell_type": "markdown",
   "metadata": {},
   "source": [
    "### Lineer Regresyon kullanılarak görüntülenme sayılarının tahminlenmesi"
   ]
  },
  {
   "cell_type": "code",
   "execution_count": 56,
   "metadata": {},
   "outputs": [],
   "source": [
    "df.drop(['trending_date','publish_time','tags','title','description','channel_title'],axis=1,inplace=True)"
   ]
  },
  {
   "cell_type": "code",
   "execution_count": 57,
   "metadata": {},
   "outputs": [],
   "source": [
    "df.drop(['video_id','thumbnail_link'],axis=1,inplace=True)"
   ]
  },
  {
   "cell_type": "code",
   "execution_count": 58,
   "metadata": {},
   "outputs": [
    {
     "data": {
      "text/html": [
       "<div>\n",
       "<style scoped>\n",
       "    .dataframe tbody tr th:only-of-type {\n",
       "        vertical-align: middle;\n",
       "    }\n",
       "\n",
       "    .dataframe tbody tr th {\n",
       "        vertical-align: top;\n",
       "    }\n",
       "\n",
       "    .dataframe thead th {\n",
       "        text-align: right;\n",
       "    }\n",
       "</style>\n",
       "<table border=\"1\" class=\"dataframe\">\n",
       "  <thead>\n",
       "    <tr style=\"text-align: right;\">\n",
       "      <th></th>\n",
       "      <th>category_id</th>\n",
       "      <th>views</th>\n",
       "      <th>likes</th>\n",
       "      <th>dislikes</th>\n",
       "      <th>comment_count</th>\n",
       "      <th>comments_disabled</th>\n",
       "      <th>ratings_disabled</th>\n",
       "      <th>video_error_or_removed</th>\n",
       "    </tr>\n",
       "  </thead>\n",
       "  <tbody>\n",
       "    <tr>\n",
       "      <td>0</td>\n",
       "      <td>22</td>\n",
       "      <td>748374</td>\n",
       "      <td>57527</td>\n",
       "      <td>2966</td>\n",
       "      <td>15954</td>\n",
       "      <td>False</td>\n",
       "      <td>False</td>\n",
       "      <td>False</td>\n",
       "    </tr>\n",
       "    <tr>\n",
       "      <td>1</td>\n",
       "      <td>24</td>\n",
       "      <td>2418783</td>\n",
       "      <td>97185</td>\n",
       "      <td>6146</td>\n",
       "      <td>12703</td>\n",
       "      <td>False</td>\n",
       "      <td>False</td>\n",
       "      <td>False</td>\n",
       "    </tr>\n",
       "    <tr>\n",
       "      <td>2</td>\n",
       "      <td>23</td>\n",
       "      <td>3191434</td>\n",
       "      <td>146033</td>\n",
       "      <td>5339</td>\n",
       "      <td>8181</td>\n",
       "      <td>False</td>\n",
       "      <td>False</td>\n",
       "      <td>False</td>\n",
       "    </tr>\n",
       "    <tr>\n",
       "      <td>3</td>\n",
       "      <td>24</td>\n",
       "      <td>343168</td>\n",
       "      <td>10172</td>\n",
       "      <td>666</td>\n",
       "      <td>2146</td>\n",
       "      <td>False</td>\n",
       "      <td>False</td>\n",
       "      <td>False</td>\n",
       "    </tr>\n",
       "    <tr>\n",
       "      <td>4</td>\n",
       "      <td>24</td>\n",
       "      <td>2095731</td>\n",
       "      <td>132235</td>\n",
       "      <td>1989</td>\n",
       "      <td>17518</td>\n",
       "      <td>False</td>\n",
       "      <td>False</td>\n",
       "      <td>False</td>\n",
       "    </tr>\n",
       "    <tr>\n",
       "      <td>...</td>\n",
       "      <td>...</td>\n",
       "      <td>...</td>\n",
       "      <td>...</td>\n",
       "      <td>...</td>\n",
       "      <td>...</td>\n",
       "      <td>...</td>\n",
       "      <td>...</td>\n",
       "      <td>...</td>\n",
       "    </tr>\n",
       "    <tr>\n",
       "      <td>23357</td>\n",
       "      <td>27</td>\n",
       "      <td>456470</td>\n",
       "      <td>14826</td>\n",
       "      <td>279</td>\n",
       "      <td>820</td>\n",
       "      <td>False</td>\n",
       "      <td>False</td>\n",
       "      <td>False</td>\n",
       "    </tr>\n",
       "    <tr>\n",
       "      <td>23358</td>\n",
       "      <td>27</td>\n",
       "      <td>519220</td>\n",
       "      <td>13600</td>\n",
       "      <td>329</td>\n",
       "      <td>1350</td>\n",
       "      <td>False</td>\n",
       "      <td>False</td>\n",
       "      <td>False</td>\n",
       "    </tr>\n",
       "    <tr>\n",
       "      <td>23359</td>\n",
       "      <td>10</td>\n",
       "      <td>1117570</td>\n",
       "      <td>7504</td>\n",
       "      <td>584</td>\n",
       "      <td>324</td>\n",
       "      <td>False</td>\n",
       "      <td>False</td>\n",
       "      <td>False</td>\n",
       "    </tr>\n",
       "    <tr>\n",
       "      <td>23360</td>\n",
       "      <td>15</td>\n",
       "      <td>713574</td>\n",
       "      <td>12448</td>\n",
       "      <td>146</td>\n",
       "      <td>1474</td>\n",
       "      <td>False</td>\n",
       "      <td>False</td>\n",
       "      <td>False</td>\n",
       "    </tr>\n",
       "    <tr>\n",
       "      <td>23361</td>\n",
       "      <td>1</td>\n",
       "      <td>422979</td>\n",
       "      <td>7408</td>\n",
       "      <td>1344</td>\n",
       "      <td>1548</td>\n",
       "      <td>False</td>\n",
       "      <td>False</td>\n",
       "      <td>False</td>\n",
       "    </tr>\n",
       "  </tbody>\n",
       "</table>\n",
       "<p>23362 rows × 8 columns</p>\n",
       "</div>"
      ],
      "text/plain": [
       "       category_id    views   likes  dislikes  comment_count  \\\n",
       "0               22   748374   57527      2966          15954   \n",
       "1               24  2418783   97185      6146          12703   \n",
       "2               23  3191434  146033      5339           8181   \n",
       "3               24   343168   10172       666           2146   \n",
       "4               24  2095731  132235      1989          17518   \n",
       "...            ...      ...     ...       ...            ...   \n",
       "23357           27   456470   14826       279            820   \n",
       "23358           27   519220   13600       329           1350   \n",
       "23359           10  1117570    7504       584            324   \n",
       "23360           15   713574   12448       146           1474   \n",
       "23361            1   422979    7408      1344           1548   \n",
       "\n",
       "       comments_disabled  ratings_disabled  video_error_or_removed  \n",
       "0                  False             False                   False  \n",
       "1                  False             False                   False  \n",
       "2                  False             False                   False  \n",
       "3                  False             False                   False  \n",
       "4                  False             False                   False  \n",
       "...                  ...               ...                     ...  \n",
       "23357              False             False                   False  \n",
       "23358              False             False                   False  \n",
       "23359              False             False                   False  \n",
       "23360              False             False                   False  \n",
       "23361              False             False                   False  \n",
       "\n",
       "[23362 rows x 8 columns]"
      ]
     },
     "execution_count": 58,
     "metadata": {},
     "output_type": "execute_result"
    }
   ],
   "source": [
    "df ### Güncellenmiş veriseti"
   ]
  },
  {
   "cell_type": "code",
   "execution_count": 59,
   "metadata": {},
   "outputs": [
    {
     "name": "stdout",
     "output_type": "stream",
     "text": [
      "(18689, 7) (4673, 7) (18689,) (4673,)\n"
     ]
    }
   ],
   "source": [
    "views=df['views']\n",
    "youtube_view=df.drop(['views'],axis=1,inplace=False)\n",
    "train,test,y_train,y_test=train_test_split(youtube_view,views, test_size=0.2,shuffle=False)\n",
    "print(train.shape,test.shape,y_train.shape,y_test.shape)"
   ]
  },
  {
   "cell_type": "code",
   "execution_count": 60,
   "metadata": {},
   "outputs": [
    {
     "data": {
      "text/plain": [
       "array([191311.29638488, 387944.53892637, 371931.61375569, ...,\n",
       "       447891.13591827, 467765.97085461, 416276.3834769 ])"
      ]
     },
     "execution_count": 60,
     "metadata": {},
     "output_type": "execute_result"
    }
   ],
   "source": [
    "model = LinearRegression()\n",
    "model.fit(train, y_train)\n",
    "y_pred = model.predict(test)\n",
    "y_pred"
   ]
  },
  {
   "cell_type": "code",
   "execution_count": 61,
   "metadata": {},
   "outputs": [
    {
     "name": "stdout",
     "output_type": "stream",
     "text": [
      "Root means score 2115858.0078345896\n",
      "Variance score: 0.40\n",
      "Result : 0.3998759152880331\n"
     ]
    }
   ],
   "source": [
    "print('Root means score', np.sqrt(mean_squared_error(y_test, y_pred)))\n",
    "print('Variance score: %.2f' % r2_score(y_test, y_pred))\n",
    "print(\"Result :\",model.score(test, y_test))"
   ]
  },
  {
   "cell_type": "code",
   "execution_count": 62,
   "metadata": {},
   "outputs": [
    {
     "name": "stdout",
     "output_type": "stream",
     "text": [
      "         Views  Predicted Views\n",
      "18689    34110     1.913113e+05\n",
      "18690   312563     3.879445e+05\n",
      "18691   148565     3.719316e+05\n",
      "18692   343814     5.949086e+05\n",
      "18693  1858332     1.358816e+06\n",
      "...        ...              ...\n",
      "23357   456470     5.733893e+05\n",
      "23358   519220     5.012115e+05\n",
      "23359  1117570     4.478911e+05\n",
      "23360   713574     4.677660e+05\n",
      "23361   422979     4.162764e+05\n",
      "\n",
      "[4673 rows x 2 columns]\n"
     ]
    }
   ],
   "source": [
    "d1 = {'Views': y_test, 'Predicted Views': y_pred}\n",
    "SK = pd.DataFrame(data = d1)\n",
    "print(SK)"
   ]
  },
  {
   "cell_type": "code",
   "execution_count": 63,
   "metadata": {},
   "outputs": [
    {
     "data": {
      "image/png": "[encoded data removed]",
      "text/plain": [
       "<Figure size 720x720 with 1 Axes>"
      ]
     },
     "metadata": {
      "needs_background": "light"
     },
     "output_type": "display_data"
    }
   ],
   "source": [
    "lm1 = sns.lmplot(x=\"Views\", y=\"Predicted Views\", data = SK, height = 10)\n",
    "fig1 = lm1.fig \n",
    "fig1.suptitle(\"Sklearn \", fontsize=10)\n",
    "sns.set(font_scale = 1.2)"
   ]
  },
  {
   "cell_type": "markdown",
   "metadata": {},
   "source": [
    "### Beğenme sayılarının tahminlenmesi"
   ]
  },
  {
   "cell_type": "code",
   "execution_count": 64,
   "metadata": {},
   "outputs": [
    {
     "name": "stdout",
     "output_type": "stream",
     "text": [
      "(18689, 7) (4673, 7) (18689,) (4673,)\n"
     ]
    }
   ],
   "source": [
    "likes=df['likes']\n",
    "youtube_like=df.drop(['likes'],axis=1,inplace=False)\n",
    "train,test,y_train,y_test=train_test_split(youtube_like,likes, test_size=0.2,shuffle=False)\n",
    "print(train.shape,test.shape,y_train.shape,y_test.shape)"
   ]
  },
  {
   "cell_type": "code",
   "execution_count": 65,
   "metadata": {},
   "outputs": [
    {
     "data": {
      "text/plain": [
       "array([  -59.93294634,  8498.5644908 , 12099.1378607 , ...,\n",
       "       34263.77796356, 27204.06687126, 27188.53253017])"
      ]
     },
     "execution_count": 65,
     "metadata": {},
     "output_type": "execute_result"
    }
   ],
   "source": [
    "model = LinearRegression()\n",
    "model.fit(train, y_train)\n",
    "y_pred = model.predict(test)\n",
    "y_pred"
   ]
  },
  {
   "cell_type": "code",
   "execution_count": 66,
   "metadata": {},
   "outputs": [
    {
     "name": "stdout",
     "output_type": "stream",
     "text": [
      "Root means score 66868.42144854508\n",
      "Variance score: 0.75\n",
      "Result : 0.7518342828477124\n"
     ]
    }
   ],
   "source": [
    "print('Root means score', np.sqrt(mean_squared_error(y_test, y_pred)))\n",
    "print('Variance score: %.2f' % r2_score(y_test, y_pred))\n",
    "print(\"Result :\",model.score(test, y_test))"
   ]
  },
  {
   "cell_type": "code",
   "execution_count": 67,
   "metadata": {},
   "outputs": [
    {
     "name": "stdout",
     "output_type": "stream",
     "text": [
      "       Likes  Predicted Likes\n",
      "18689    180       -59.932946\n",
      "18690   7792      8498.564491\n",
      "18691   6965     12099.137861\n",
      "18692  11995      9369.963955\n",
      "18693  47757     62812.852180\n",
      "...      ...              ...\n",
      "23357  14826     11856.298728\n",
      "23358  13600     14919.288623\n",
      "23359   7504     34263.777964\n",
      "23360  12448     27204.066871\n",
      "23361   7408     27188.532530\n",
      "\n",
      "[4673 rows x 2 columns]\n"
     ]
    }
   ],
   "source": [
    "d1 = {'Likes': y_test, 'Predicted Likes': y_pred}\n",
    "SK = pd.DataFrame(data = d1)\n",
    "print(SK)"
   ]
  },
  {
   "cell_type": "code",
   "execution_count": 68,
   "metadata": {},
   "outputs": [
    {
     "name": "stderr",
     "output_type": "stream",
     "text": [
      "C:\\ProgramData\\Anaconda3\\lib\\site-packages\\seaborn\\regression.py:546: UserWarning: The `size` paramter has been renamed to `height`; please update your code.\n",
      "  warnings.warn(msg, UserWarning)\n"
     ]
    },
    {
     "data": {
      "image/png": "[encoded data removed]",
      "text/plain": [
       "<Figure size 720x720 with 1 Axes>"
      ]
     },
     "metadata": {},
     "output_type": "display_data"
    }
   ],
   "source": [
    "lm1 = sns.lmplot(x=\"Likes\", y=\"Predicted Likes\", data = SK, size = 10)\n",
    "fig1 = lm1.fig \n",
    "fig1.suptitle(\"Sklearn\", fontsize=16)\n",
    "sns.set(font_scale = 1.5)"
   ]
  },
  {
   "cell_type": "markdown",
   "metadata": {},
   "source": [
    "### Yorum sayılarının tahminlenmesi"
   ]
  },
  {
   "cell_type": "code",
   "execution_count": 69,
   "metadata": {},
   "outputs": [
    {
     "name": "stdout",
     "output_type": "stream",
     "text": [
      "(18689, 7) (4673, 7) (18689,) (4673,)\n"
     ]
    }
   ],
   "source": [
    "comment_count=df['comment_count']\n",
    "youtube_comment=df.drop(['comment_count'],axis=1,inplace=False)\n",
    "train,test,y_train,y_test=train_test_split(youtube_comment,comment_count, test_size=0.2,shuffle=False)\n",
    "print(train.shape,test.shape,y_train.shape,y_test.shape)"
   ]
  },
  {
   "cell_type": "code",
   "execution_count": 70,
   "metadata": {},
   "outputs": [
    {
     "data": {
      "text/plain": [
       "array([ 1076.31130759,  1396.92537428,   734.61705816, ...,\n",
       "       -1758.43090822,   128.89772883,  -362.94164664])"
      ]
     },
     "execution_count": 70,
     "metadata": {},
     "output_type": "execute_result"
    }
   ],
   "source": [
    "model = LinearRegression()\n",
    "model.fit(train, y_train)\n",
    "\n",
    "y_pred = model.predict(test)\n",
    "y_pred"
   ]
  },
  {
   "cell_type": "code",
   "execution_count": 71,
   "metadata": {},
   "outputs": [
    {
     "name": "stdout",
     "output_type": "stream",
     "text": [
      "Root means score 12605.123014851084\n",
      "Variance score: 0.64\n",
      "Result : 0.6387455529568723\n"
     ]
    }
   ],
   "source": [
    "print('Root means score', np.sqrt(mean_squared_error(y_test, y_pred)))\n",
    "print('Variance score: %.2f' % r2_score(y_test, y_pred))\n",
    "print(\"Result :\",model.score(test, y_test))"
   ]
  },
  {
   "cell_type": "code",
   "execution_count": 72,
   "metadata": {},
   "outputs": [
    {
     "name": "stdout",
     "output_type": "stream",
     "text": [
      "       Comments  Predicted Comments\n",
      "18689        60         1076.311308\n",
      "18690       497         1396.925374\n",
      "18691       666          734.617058\n",
      "18692      1443         3196.764843\n",
      "18693      4779         3181.531054\n",
      "...         ...                 ...\n",
      "23357       820         2248.438335\n",
      "23358      1350         1944.443104\n",
      "23359       324        -1758.430908\n",
      "23360      1474          128.897729\n",
      "23361      1548         -362.941647\n",
      "\n",
      "[4673 rows x 2 columns]\n"
     ]
    }
   ],
   "source": [
    "d1 = {'Comments': y_test, 'Predicted Comments': y_pred}\n",
    "SK = pd.DataFrame(data = d1)\n",
    "print(SK)"
   ]
  },
  {
   "cell_type": "code",
   "execution_count": 73,
   "metadata": {},
   "outputs": [
    {
     "name": "stderr",
     "output_type": "stream",
     "text": [
      "C:\\ProgramData\\Anaconda3\\lib\\site-packages\\seaborn\\regression.py:546: UserWarning: The `size` paramter has been renamed to `height`; please update your code.\n",
      "  warnings.warn(msg, UserWarning)\n"
     ]
    },
    {
     "data": {
      "image/png": "[encoded data removed]",
      "text/plain": [
       "<Figure size 720x720 with 1 Axes>"
      ]
     },
     "metadata": {},
     "output_type": "display_data"
    }
   ],
   "source": [
    "lm1 = sns.lmplot(x=\"Comments\", y=\"Predicted Comments\", data = SK, size = 10)\n",
    "fig1 = lm1.fig \n",
    "fig1.suptitle(\"Sklearn \", fontsize=18)\n",
    "sns.set(font_scale = 1.5)"
   ]
  },
  {
   "cell_type": "markdown",
   "metadata": {},
   "source": [
    "### Youtube'da video yayınlamak için en iyi zamanın belirlenmesi"
   ]
  },
  {
   "cell_type": "code",
   "execution_count": 74,
   "metadata": {},
   "outputs": [],
   "source": [
    "youtube = pd.read_csv('input/USvideos.csv')\n",
    "youtube = youtube.dropna(how='any',axis=0)\n",
    "youtube.describe()\n",
    "youtube.drop(['video_id','thumbnail_link'],axis=1,inplace=True)\n",
    "tags=[x.count(\"|\")+1 for x in youtube[\"tags\"]]\n",
    "youtube[\"No_tags\"]=tags\n",
    "\n",
    "desc_len=[len(x) for x in youtube[\"description\"]]\n",
    "youtube[\"desc_len\"]=desc_len\n",
    "\n",
    "title_len=[len(x) for x in youtube[\"title\"]]\n",
    "youtube[\"len_title\"]=title_len\n",
    "publish_time = pd.to_datetime(youtube['publish_time'], format='%Y-%m-%dT%H:%M:%S.%fZ')\n",
    "youtube['publish_time'] = publish_time.dt.time\n",
    "youtube['publish_date'] = publish_time.dt.date\n",
    "youtube['publish_date'] = publish_time.dt.date\n",
    "\n",
    "youtube['publish_hour'] = publish_time.dt.hour\n",
    "publish_h = [0] * 24"
   ]
  },
  {
   "cell_type": "code",
   "execution_count": 75,
   "metadata": {},
   "outputs": [],
   "source": [
    "import numpy as np\n",
    "import pandas as pd\n",
    "from scipy.optimize import curve_fit\n",
    "import seaborn as sns\n",
    "\n",
    "import matplotlib.pyplot as plt\n",
    "import matplotlib.colors as colors\n",
    "%matplotlib inline\n",
    "\n",
    "\n",
    "publish_h = [0] * 24\n",
    "\n",
    "for index, row in youtube.iterrows():\n",
    "    publish_h[row[\"publish_hour\"]] += 1\n",
    "    \n",
    "values = publish_h\n",
    "ind = np.arange(len(values))"
   ]
  },
  {
   "cell_type": "code",
   "execution_count": 76,
   "metadata": {},
   "outputs": [
    {
     "data": {
      "image/png": "[encoded data removed]",
      "text/plain": [
       "<Figure size 1440x720 with 1 Axes>"
      ]
     },
     "metadata": {
      "needs_background": "light"
     },
     "output_type": "display_data"
    }
   ],
   "source": [
    "fig = plt.figure(figsize=(20,10))\n",
    "ax = fig.add_subplot(111)\n",
    "ax.yaxis.grid()\n",
    "ax.xaxis.grid()\n",
    "bars = ax.bar(ind, values)\n",
    "\n",
    "for i, b in enumerate(bars):\n",
    "    b.set_color(plt.cm.viridis((values[i] - min(values))/(max(values)- min(values))))\n",
    "    \n",
    "plt.ylabel('Number of videos that got trending', fontsize=20)\n",
    "plt.xlabel('Time of publishing', fontsize=20)\n",
    "plt.title('Best time to publish video', fontsize=30, fontweight='bold')\n",
    "plt.xticks(np.arange(0, len(ind), len(ind)/6), [0, 4, 8, 12, 16, 20])\n",
    "\n",
    "plt.show()"
   ]
  }
 ],
 "metadata": {
  "kernelspec": {
   "display_name": "Python 3",
   "language": "python",
   "name": "python3"
  },
  "language_info": {
   "codemirror_mode": {
    "name": "ipython",
    "version": 3
   },
   "file_extension": ".py",
   "mimetype": "text/x-python",
   "name": "python",
   "nbconvert_exporter": "python",
   "pygments_lexer": "ipython3",
   "version": "3.7.4"
  }
 },
 "nbformat": 4,
 "nbformat_minor": 2
}
